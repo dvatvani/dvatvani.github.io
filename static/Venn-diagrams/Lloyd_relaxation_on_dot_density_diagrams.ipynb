{
 "cells": [
  {
   "cell_type": "code",
   "execution_count": 1,
   "metadata": {
    "ExecuteTime": {
     "end_time": "2019-04-13T20:32:52.815000Z",
     "start_time": "2019-04-13T20:32:52.466000Z"
    }
   },
   "outputs": [
    {
     "name": "stdout",
     "output_type": "stream",
     "text": [
      "Populating the interactive namespace from numpy and matplotlib\n"
     ]
    }
   ],
   "source": [
    "%pylab inline\n",
    "import numpy as np\n",
    "from matplotlib.patches import Circle\n",
    "from shapely.geometry import box, Polygon, Point, LineString\n",
    "from scipy.spatial import Voronoi, voronoi_plot_2d"
   ]
  },
  {
   "cell_type": "code",
   "execution_count": 2,
   "metadata": {
    "ExecuteTime": {
     "end_time": "2019-04-13T20:32:52.819000Z",
     "start_time": "2019-04-13T20:32:52.817000Z"
    }
   },
   "outputs": [],
   "source": [
    "mpl.rcParams['font.family'] = 'Open Sans'"
   ]
  },
  {
   "cell_type": "code",
   "execution_count": 3,
   "metadata": {
    "ExecuteTime": {
     "end_time": "2019-04-13T20:32:53.392000Z",
     "start_time": "2019-04-13T20:32:53.386000Z"
    }
   },
   "outputs": [],
   "source": [
    "# Population sizes of the regions in the Venn diagram\n",
    "\n",
    "# Just A\n",
    "# A - B - C\n",
    "just_a = 70\n",
    "\n",
    "# Just B\n",
    "# B - C - A\n",
    "just_b = 17\n",
    "\n",
    "# Just C\n",
    "# C - B - A\n",
    "just_c = 85\n",
    "\n",
    "# A ^ B\n",
    "a_intersection_b = 3\n",
    "\n",
    "# A ^ C\n",
    "a_intersection_c = 5\n",
    "\n",
    "# B ^ C\n",
    "b_intersection_c = 60\n",
    "\n",
    "# A ^ B ^ C\n",
    "a_intersection_b_intersection_c = 15\n"
   ]
  },
  {
   "cell_type": "code",
   "execution_count": 4,
   "metadata": {
    "ExecuteTime": {
     "end_time": "2019-04-13T20:32:54.071000Z",
     "start_time": "2019-04-13T20:32:54.066000Z"
    }
   },
   "outputs": [],
   "source": [
    "a_x, a_y, a_r = 0,1,1.2\n",
    "b_x, b_y, b_r = -.5,0,1.2\n",
    "c_x, c_y, c_r = .5,0,1.2\n",
    "\n",
    "A = Point(a_x, a_y).buffer(a_r)\n",
    "B = Point(b_x, b_y).buffer(b_r)\n",
    "C = Point(c_x, c_y).buffer(c_r)"
   ]
  },
  {
   "cell_type": "code",
   "execution_count": 5,
   "metadata": {
    "ExecuteTime": {
     "end_time": "2019-04-13T20:32:56.593000Z",
     "start_time": "2019-04-13T20:32:56.586000Z"
    }
   },
   "outputs": [],
   "source": [
    "def random_points_within(shapely_poly, num_points, min_distance_from_edge=0.05):\n",
    "    shapely_poly = shapely_poly.buffer(-1*min_distance_from_edge)\n",
    "    min_x, min_y, max_x, max_y = shapely_poly.bounds\n",
    "\n",
    "    points = []\n",
    "\n",
    "    while len(points) < num_points:\n",
    "        random_point = Point([random.uniform(min_x, max_x), random.uniform(min_y, max_y)])\n",
    "        if (random_point.within(shapely_poly)):\n",
    "            points.append(np.array(random_point.coords.xy).T)\n",
    "\n",
    "    points = np.vstack(points)\n",
    "    return points"
   ]
  },
  {
   "cell_type": "code",
   "execution_count": 17,
   "metadata": {
    "ExecuteTime": {
     "end_time": "2019-04-13T20:36:51.609000Z",
     "start_time": "2019-04-13T20:36:50.596000Z"
    }
   },
   "outputs": [
    {
     "data": {
      "image/png": "[encoded data removed]",
      "text/plain": [
       "<matplotlib.figure.Figure at 0xb529240>"
      ]
     },
     "metadata": {},
     "output_type": "display_data"
    }
   ],
   "source": [
    "# plot A\n",
    "plt.plot(np.array(A.boundary.coords.xy).T[:,0], np.array(A.boundary.coords.xy).T[:,1], color=(0.855,0.314,0.196,1.0))\n",
    "plt.gca().add_patch(Circle((a_x, a_y), a_r, zorder=0, lw=2, edgecolor=(0.855,0.314,0.196,1.0), color=(0.855,0.314,0.196,.3)))\n",
    "plt.text(0,2.3,\"Spanish\", ha='center', color=(.36,.36,.36))\n",
    "\n",
    "# plot B\n",
    "plt.plot(np.array(B.boundary.coords.xy).T[:,0], np.array(B.boundary.coords.xy).T[:,1], color=(0.855,0.314,0.196,1.0))\n",
    "plt.gca().add_patch(Circle((b_x, b_y), b_r, zorder=0, lw=2, edgecolor=(0.855,0.314,0.196,1.0), color=(0.855,0.314,0.196,.3)))\n",
    "plt.text(-1.6,-0.6,\"Chemistry\", ha='right', color=(.36,.36,.36))\n",
    "\n",
    "# plot C\n",
    "plt.plot(np.array(C.boundary.coords.xy).T[:,0], np.array(C.boundary.coords.xy).T[:,1], color=(0.855,0.314,0.196,1.0))\n",
    "plt.gca().add_patch(Circle((c_x, c_y), c_r, zorder=0, lw=2, edgecolor=(0.855,0.314,0.196,1.0), color=(0.855,0.314,0.196,.3)))\n",
    "plt.text(1.6,-0.6,\"Maths\", ha='left', color=(.36,.36,.36))\n",
    "\n",
    "\n",
    "# Plot the population represented by 100 dots\n",
    "\n",
    "rand_x_range = (-2,2)\n",
    "rand_y_range = (-1.5,2.5)\n",
    "scatter_kwargs = {'color': (.36,.36,.36),\n",
    "                  's': 5}\n",
    "\n",
    "# Plot just A\n",
    "points = random_points_within(A.difference(B).difference(C), just_a)\n",
    "plt.scatter(points[:,0],points[:,1], **scatter_kwargs)\n",
    "            \n",
    "# plot just B\n",
    "points = random_points_within(B.difference(A).difference(C), just_b)\n",
    "plt.scatter(points[:,0],points[:,1], **scatter_kwargs)\n",
    "\n",
    "# plot just C\n",
    "points = random_points_within(C.difference(A).difference(B), just_c)\n",
    "plt.scatter(points[:,0],points[:,1], **scatter_kwargs)\n",
    "\n",
    "# plot A ^ B\n",
    "points = random_points_within(A.intersection(B).difference(C), a_intersection_b)\n",
    "plt.scatter(points[:,0],points[:,1], **scatter_kwargs)\n",
    "\n",
    "# plot A ^ C\n",
    "points = random_points_within(A.intersection(C).difference(B), a_intersection_c)\n",
    "plt.scatter(points[:,0],points[:,1], **scatter_kwargs)\n",
    "\n",
    "# plot B ^ C\n",
    "points = random_points_within(B.intersection(C).difference(A), b_intersection_c)\n",
    "plt.scatter(points[:,0],points[:,1], **scatter_kwargs)\n",
    "\n",
    "# plot A ^ B ^ C\n",
    "points = random_points_within(A.intersection(B).intersection(C), a_intersection_c)\n",
    "plt.scatter(points[:,0],points[:,1], **scatter_kwargs)\n",
    "\n",
    "# Fine tune the presentation of the graph\n",
    "plt.axes().set_aspect('equal', 'datalim')\n",
    "plt.gca().axis('off')\n",
    "plt.xlim(-3.5,3.5)\n",
    "plt.ylim(-1.5,2.5)\n",
    "plt.gcf().set_size_inches(6,5)\n",
    "plt.title('A level subjects chosen', color=(.36,.36,.36))\n",
    "\n",
    "# Save the output\n",
    "plt.savefig('unrelaxed_Venn.png', dpi=600)"
   ]
  },
  {
   "cell_type": "code",
   "execution_count": null,
   "metadata": {},
   "outputs": [],
   "source": []
  },
  {
   "cell_type": "code",
   "execution_count": null,
   "metadata": {},
   "outputs": [],
   "source": []
  },
  {
   "cell_type": "markdown",
   "metadata": {
    "ExecuteTime": {
     "end_time": "2019-04-13T20:32:58.394000Z",
     "start_time": "2019-04-13T20:32:58.392000Z"
    }
   },
   "source": [
    "# With bounded Lloyd relaxation"
   ]
  },
  {
   "cell_type": "code",
   "execution_count": 8,
   "metadata": {
    "ExecuteTime": {
     "end_time": "2019-04-13T20:33:02.124000Z",
     "start_time": "2019-04-13T20:33:02.115000Z"
    }
   },
   "outputs": [],
   "source": [
    "def apply_bounded_lloyd_relaxation(points, boundary, iterations=5):\n",
    "    points_to_use = points.copy()\n",
    "\n",
    "    for i in range(iterations):\n",
    "        vor = Voronoi(np.vstack([points_to_use, boundary]))\n",
    "        relevant_regions = vor.regions\n",
    "        relevant_regions = [a for a in relevant_regions if (-1 not in a) and len(a) > 0]\n",
    "        relevant_regions = [vor.regions[x] for x in vor.point_region[:len(points)]]  # Beta code\n",
    "        regions_coordinates = [np.vstack([vor.vertices[x] for x in region]) for region in relevant_regions]\n",
    "        region_centroids = np.array([Polygon(region).centroid.bounds[:2] for region in regions_coordinates])\n",
    "        points_to_use = region_centroids\n",
    "\n",
    "    return(points_to_use)"
   ]
  },
  {
   "cell_type": "code",
   "execution_count": 13,
   "metadata": {
    "ExecuteTime": {
     "end_time": "2019-04-13T20:35:30.821000Z",
     "start_time": "2019-04-13T20:35:27.387000Z"
    }
   },
   "outputs": [
    {
     "data": {
      "image/png": "[encoded data removed]",
      "text/plain": [
       "<matplotlib.figure.Figure at 0xb562358>"
      ]
     },
     "metadata": {},
     "output_type": "display_data"
    }
   ],
   "source": [
    "# plot A\n",
    "plt.plot(np.array(A.boundary.coords.xy).T[:,0], np.array(A.boundary.coords.xy).T[:,1], color=(0.855,0.314,0.196,1.0))\n",
    "plt.gca().add_patch(Circle((a_x, a_y), a_r, zorder=0, lw=2, edgecolor=(0.855,0.314,0.196,1.0), color=(0.855,0.314,0.196,.3)))\n",
    "plt.text(0,2.3,\"Spanish\", ha='center', color=(.36,.36,.36))\n",
    "\n",
    "# plot B\n",
    "plt.plot(np.array(B.boundary.coords.xy).T[:,0], np.array(B.boundary.coords.xy).T[:,1], color=(0.855,0.314,0.196,1.0))\n",
    "plt.gca().add_patch(Circle((b_x, b_y), b_r, zorder=0, lw=2, edgecolor=(0.855,0.314,0.196,1.0), color=(0.855,0.314,0.196,.3)))\n",
    "plt.text(-1.6,-0.6,\"Chemistry\", ha='right', color=(.36,.36,.36))\n",
    "\n",
    "# plot C\n",
    "plt.plot(np.array(C.boundary.coords.xy).T[:,0], np.array(C.boundary.coords.xy).T[:,1], color=(0.855,0.314,0.196,1.0))\n",
    "plt.gca().add_patch(Circle((c_x, c_y), c_r, zorder=0, lw=2, edgecolor=(0.855,0.314,0.196,1.0), color=(0.855,0.314,0.196,0.3)))\n",
    "plt.text(1.6,-0.6,\"Maths\", ha='left', color=(.36,.36,.36))\n",
    "\n",
    "\n",
    "# Plot the population\n",
    "\n",
    "rand_x_range = (-2,2)\n",
    "rand_y_range = (-1.5,2.5)\n",
    "scatter_kwargs = {'color': (.36,.36,.36),\n",
    "                  's': 5}\n",
    "\n",
    "\n",
    "\n",
    "# Plot just A\n",
    "points = random_points_within(A.difference(B).difference(C), just_a)\n",
    "boundary = A.difference(B).difference(C).boundary\n",
    "boundary_coordinates = np.array(boundary.coords.xy).T\n",
    "relaxed_points = apply_bounded_lloyd_relaxation(points, boundary_coordinates, iterations=100)\n",
    "plt.scatter(relaxed_points[:,0], relaxed_points[:,1], **scatter_kwargs)         \n",
    "            \n",
    "\n",
    "# plot just B\n",
    "points = random_points_within(B.difference(A).difference(C), just_b)\n",
    "boundary = B.difference(A).difference(C).boundary\n",
    "boundary_coordinates = np.array(boundary.coords.xy).T\n",
    "relaxed_points = apply_bounded_lloyd_relaxation(points, boundary_coordinates, iterations=100)\n",
    "plt.scatter(relaxed_points[:,0], relaxed_points[:,1], **scatter_kwargs)         \n",
    "            \n",
    "            \n",
    "# plot just C\n",
    "points = random_points_within(C.difference(A).difference(B), just_c)\n",
    "boundary = C.difference(B).difference(A).boundary\n",
    "boundary_coordinates = np.array(boundary.coords.xy).T\n",
    "relaxed_points = apply_bounded_lloyd_relaxation(points, boundary_coordinates, iterations=100)\n",
    "plt.scatter(relaxed_points[:,0], relaxed_points[:,1], **scatter_kwargs)            \n",
    "\n",
    "\n",
    "# plot A ^ B\n",
    "points = random_points_within(A.intersection(B).difference(C), a_intersection_b)\n",
    "boundary = A.intersection(B).difference(C).boundary\n",
    "boundary_coordinates = np.array(boundary.coords.xy).T\n",
    "relaxed_points = apply_bounded_lloyd_relaxation(points, boundary_coordinates, iterations=100)\n",
    "plt.scatter(relaxed_points[:,0], relaxed_points[:,1], **scatter_kwargs)\n",
    "            \n",
    "# plot A ^ C\n",
    "points = random_points_within(A.intersection(C).difference(B), a_intersection_c)\n",
    "boundary = A.intersection(C).difference(B).boundary\n",
    "boundary_coordinates = np.array(boundary.coords.xy).T\n",
    "relaxed_points = apply_bounded_lloyd_relaxation(points, boundary_coordinates, iterations=100)\n",
    "plt.scatter(relaxed_points[:,0], relaxed_points[:,1], **scatter_kwargs)\n",
    "            \n",
    "# plot B ^ C\n",
    "points = random_points_within(B.intersection(C).difference(A), b_intersection_c)\n",
    "boundary = B.intersection(C).difference(A).boundary\n",
    "boundary_coordinates = np.array(boundary.coords.xy).T\n",
    "relaxed_points = apply_bounded_lloyd_relaxation(points, boundary_coordinates, iterations=100)\n",
    "plt.scatter(relaxed_points[:,0], relaxed_points[:,1], **scatter_kwargs)\n",
    "\n",
    "\n",
    "# plot A ^ B ^ C\n",
    "points = random_points_within(A.intersection(B).intersection(C), a_intersection_b_intersection_c)\n",
    "boundary = A.intersection(B).intersection(C).boundary\n",
    "boundary_coordinates = np.array(boundary.coords.xy).T\n",
    "relaxed_points = apply_bounded_lloyd_relaxation(points, boundary_coordinates, iterations=100)\n",
    "plt.scatter(relaxed_points[:,0], relaxed_points[:,1], **scatter_kwargs)\n",
    "            \n",
    "\n",
    "# Fine tune the presentation of the graph\n",
    "plt.axes().set_aspect('equal', 'datalim')\n",
    "plt.gca().axis('off')\n",
    "plt.xlim(-3.5,3.5)\n",
    "plt.ylim(-1.5,2.5)\n",
    "plt.gcf().set_size_inches(6,5)\n",
    "plt.title('A level subjects chosen', color=(.36,.36,.36))\n",
    "\n",
    "# Save the output\n",
    "plt.savefig('Venn.png', dpi=600)"
   ]
  },
  {
   "cell_type": "code",
   "execution_count": null,
   "metadata": {},
   "outputs": [],
   "source": []
  },
  {
   "cell_type": "code",
   "execution_count": null,
   "metadata": {},
   "outputs": [],
   "source": []
  }
 ],
 "metadata": {
  "kernelspec": {
   "display_name": "Python 2",
   "language": "python",
   "name": "python2"
  },
  "language_info": {
   "codemirror_mode": {
    "name": "ipython",
    "version": 2
   },
   "file_extension": ".py",
   "mimetype": "text/x-python",
   "name": "python",
   "nbconvert_exporter": "python",
   "pygments_lexer": "ipython2",
   "version": "2.7.11"
  },
  "toc": {
   "base_numbering": 1,
   "nav_menu": {},
   "number_sections": true,
   "sideBar": true,
   "skip_h1_title": false,
   "title_cell": "Table of Contents",
   "title_sidebar": "Contents",
   "toc_cell": false,
   "toc_position": {},
   "toc_section_display": true,
   "toc_window_display": false
  }
 },
 "nbformat": 4,
 "nbformat_minor": 2
}
